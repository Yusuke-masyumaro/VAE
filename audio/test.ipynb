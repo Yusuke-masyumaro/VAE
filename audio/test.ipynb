{
 "cells": [
  {
   "cell_type": "code",
   "execution_count": 1,
   "metadata": {},
   "outputs": [],
   "source": [
    "import torch\n",
    "import torch.nn as nn\n",
    "from torch.utils.data import Dataset, DataLoader\n",
    "import torch.nn.functional as F\n",
    "import torchaudio\n",
    "import matplotlib.pyplot as plt\n",
    "import pandas as pd\n",
    "import numpy as np\n",
    "from tqdm import tqdm\n",
    "from sklearn.model_selection import train_test_split\n",
    "\n",
    "import params as params\n",
    "import model as model\n",
    "import os"
   ]
  },
  {
   "cell_type": "code",
   "execution_count": 2,
   "metadata": {},
<<<<<<< HEAD
=======
   "outputs": [],
   "source": [
    "class ESC_dataset(nn.Module):\n",
    "    def __init__(self, df, path):\n",
    "        self.df = df\n",
    "        self.path = path\n",
    "        self.data_list = []\n",
    "        for file_name in tqdm(df['filename'].values):\n",
    "            wav, sr = torchaudio.load(self.path + file_name)\n",
    "            wav = torchaudio.transforms.Resample(orig_freq = sr, new_freq = 22050)(wav)\n",
    "            mel_spec = torchaudio.transforms.MelSpectrogram(sample_rate = 22050, n_fft = 1024, hop_length = 512, n_mels = 128)(wav)\n",
    "            mel_spec = torchaudio.transforms.AmplitudeToDB()(mel_spec)\n",
    "            self.data_list.append(mel_spec)\n",
    "\n",
    "    def __len__(self):\n",
    "        return len(self.df)\n",
    "\n",
    "    def __getitem__(self, idx):\n",
    "        return self.data_list[idx]"
   ]
  },
  {
   "cell_type": "code",
   "execution_count": null,
   "metadata": {},
   "outputs": [],
   "source": [
    "wav, sr = torchauido.load('../')"
   ]
  },
  {
   "cell_type": "code",
   "execution_count": 3,
   "metadata": {},
   "outputs": [
    {
     "name": "stderr",
     "output_type": "stream",
     "text": [
      "  0%|          | 0/2000 [00:00<?, ?it/s]"
     ]
    },
    {
     "name": "stderr",
     "output_type": "stream",
     "text": [
      "100%|██████████| 2000/2000 [00:09<00:00, 220.59it/s]\n"
     ]
    }
   ],
   "source": [
    "df = pd.read_csv('../dataset/ESC-50-master/meta/esc50.csv')\n",
    "file_path = '../dataset/ESC-50-master/audio/'\n",
    "dataset = ESC_dataset(df, file_path)\n",
    "variances = []\n",
    "for wav in dataset:\n",
    "    variances.append(wav)\n",
    "variances = torch.var(torch.stack(variances))\n"
   ]
  },
  {
   "cell_type": "code",
   "execution_count": 15,
   "metadata": {},
>>>>>>> d64a3d664a498a0b19025c3e60a8657463f4344e
   "outputs": [
    {
     "data": {
      "text/plain": [
       "VQVAE(\n",
       "  (encoder): Encoder(\n",
       "    (e_layer_one): Conv1d(1, 64, kernel_size=(3,), stride=(1,), padding=(1,))\n",
       "    (e_layer_two): Conv1d(64, 128, kernel_size=(3,), stride=(1,), padding=(1,))\n",
       "    (e_layer_three): Conv1d(128, 128, kernel_size=(3,), stride=(1,), padding=(1,))\n",
       "    (residual_stack): ResidualStack(\n",
       "      (layers): ModuleList(\n",
       "        (0-1): 2 x Residual(\n",
       "          (conv_one): Conv1d(128, 32, kernel_size=(3,), stride=(1,), padding=(1,))\n",
       "          (conv_two): Conv1d(32, 128, kernel_size=(1,), stride=(1,))\n",
       "        )\n",
       "      )\n",
       "    )\n",
       "    (encoder_layer): ModuleList(\n",
       "      (0): Conv1d(1, 64, kernel_size=(3,), stride=(1,), padding=(1,))\n",
       "      (1): Conv1d(64, 128, kernel_size=(3,), stride=(1,), padding=(1,))\n",
       "      (2): Conv1d(128, 128, kernel_size=(3,), stride=(1,), padding=(1,))\n",
       "    )\n",
       "  )\n",
       "  (decoder): Decoder(\n",
       "    (d_layer_one): Conv1d(64, 128, kernel_size=(3,), stride=(1,), padding=(1,))\n",
       "    (residual_stack): ResidualStack(\n",
       "      (layers): ModuleList(\n",
       "        (0-1): 2 x Residual(\n",
       "          (conv_one): Conv1d(128, 32, kernel_size=(3,), stride=(1,), padding=(1,))\n",
       "          (conv_two): Conv1d(32, 128, kernel_size=(1,), stride=(1,))\n",
       "        )\n",
       "      )\n",
       "    )\n",
       "    (d_layer_two): ConvTranspose1d(128, 64, kernel_size=(3,), stride=(1,), padding=(1,))\n",
       "    (d_layer_three): ConvTranspose1d(64, 1, kernel_size=(3,), stride=(1,), padding=(1,))\n",
       "    (decoder_layer): ModuleList(\n",
       "      (0): Conv1d(64, 128, kernel_size=(3,), stride=(1,), padding=(1,))\n",
       "      (1): ResidualStack(\n",
       "        (layers): ModuleList(\n",
       "          (0-1): 2 x Residual(\n",
       "            (conv_one): Conv1d(128, 32, kernel_size=(3,), stride=(1,), padding=(1,))\n",
       "            (conv_two): Conv1d(32, 128, kernel_size=(1,), stride=(1,))\n",
       "          )\n",
       "        )\n",
       "      )\n",
       "      (2): ConvTranspose1d(128, 64, kernel_size=(3,), stride=(1,), padding=(1,))\n",
       "    )\n",
       "  )\n",
       "  (vq): VectorQuantize(\n",
       "    (project_in): Identity()\n",
       "    (project_out): Identity()\n",
       "    (_codebook): EuclideanCodebook()\n",
       "  )\n",
       "  (pre_vq_conv1): Conv1d(128, 64, kernel_size=(1,), stride=(1,))\n",
       ")"
      ]
     },
     "execution_count": 2,
     "metadata": {},
     "output_type": "execute_result"
    }
   ],
   "source": [
    "model, optimizer = model.get_model()\n",
    "model.load_state_dict(torch.load('./model/model.pth'))\n",
    "model.to('cuda')\n",
    "model.eval()"
   ]
  },
  {
   "cell_type": "code",
   "execution_count": 5,
   "metadata": {},
   "outputs": [],
   "source": [
    "with torch.no_grad():\n",
    "    wav, sr = torchaudio.load('../../dataset/ESC-50-master/audio/1-100032-A-0.wav')\n",
    "    wav = wav.unsqueeze(0)\n",
    "    wav = wav.to('cuda')\n",
    "    decode_wav = model(wav)['output']\n",
    "    decode_wav = decode_wav.squeeze(0)\n",
    "    torchaudio.save('decode.wav', decode_wav.cpu(), sr)"
   ]
  },
  {
   "cell_type": "code",
   "execution_count": null,
   "metadata": {},
   "outputs": [],
   "source": []
  }
 ],
 "metadata": {
  "kernelspec": {
   "display_name": "Python 3",
   "language": "python",
   "name": "python3"
  },
  "language_info": {
   "codemirror_mode": {
    "name": "ipython",
    "version": 3
   },
   "file_extension": ".py",
   "mimetype": "text/x-python",
   "name": "python",
   "nbconvert_exporter": "python",
   "pygments_lexer": "ipython3",
   "version": "3.10.12"
  }
 },
 "nbformat": 4,
 "nbformat_minor": 2
}
